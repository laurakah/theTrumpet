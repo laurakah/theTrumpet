{
 "cells": [
  {
   "cell_type": "code",
   "execution_count": 3,
   "metadata": {},
   "outputs": [
    {
     "name": "stderr",
     "output_type": "stream",
     "text": [
      "/home/luci/anaconda3/lib/python3.7/site-packages/html5lib/_trie/_base.py:3: DeprecationWarning: Using or importing the ABCs from 'collections' instead of from 'collections.abc' is deprecated, and in 3.8 it will stop working\n",
      "  from collections import Mapping\n"
     ]
    }
   ],
   "source": [
    "import pandas as pd\n",
    "import datetime\n",
    "from bs4 import BeautifulSoup\n",
    "import requests"
   ]
  },
  {
   "cell_type": "code",
   "execution_count": 7,
   "metadata": {},
   "outputs": [],
   "source": [
    "speech_links = []"
   ]
  },
  {
   "cell_type": "code",
   "execution_count": 9,
   "metadata": {},
   "outputs": [],
   "source": [
    "for i in range(1, 473):\n",
    "    url = f\"https://obamawhitehouse.archives.gov/briefing-room/speeches-and-remarks?term_node_tid_depth=31&page={i}\"\n",
    "    res = requests.get(url)\n",
    "    res_bytes = res.content\n",
    "    res_str = res.text\n",
    "\n",
    "    soup_out_of_bytes = BeautifulSoup(res_bytes, \"html.parser\")\n",
    "\n",
    "    soup = soup_out_of_bytes\n",
    "    \n",
    "    links = soup.find_all(\"h3\", \"field-content\")\n",
    "    \n",
    "    speech_links.append(links)"
   ]
  },
  {
   "cell_type": "code",
   "execution_count": 14,
   "metadata": {},
   "outputs": [],
   "source": [
    "links = []\n",
    "\n",
    "for link_chunk in speech_links:\n",
    "    for link in link_chunk:\n",
    "        links.append(link.find(\"a\")[\"href\"])"
   ]
  },
  {
   "cell_type": "code",
   "execution_count": 17,
   "metadata": {},
   "outputs": [],
   "source": [
    "speech_parts = []\n",
    "\n",
    "base_url = \"https://obamawhitehouse.archives.gov\"\n",
    "\n",
    "for url in links:\n",
    "    res = requests.get(base_url + url)\n",
    "    res_bytes = res.content\n",
    "    res_str = res.text\n",
    "\n",
    "    soup_out_of_text = BeautifulSoup(res_str, \"lxml\")\n",
    "    soup_out_of_bytes = BeautifulSoup(res_bytes, \"html.parser\")\n",
    "\n",
    "    soup = soup_out_of_bytes\n",
    "    \n",
    "    speech_part = soup.find_all(\"div\", \"field-item\")\n",
    "    speech_parts.append(speech_part)"
   ]
  },
  {
   "cell_type": "code",
   "execution_count": 43,
   "metadata": {},
   "outputs": [],
   "source": [
    "texts = []\n",
    "\n",
    "for parts in speech_parts:\n",
    "    for part in parts:\n",
    "        texts.append(part.find_all(\"p\"))"
   ]
  },
  {
   "cell_type": "code",
   "execution_count": 44,
   "metadata": {},
   "outputs": [],
   "source": [
    "text_obama = \"\"\n",
    "for text in texts:\n",
    "    for paragraph in text:\n",
    "        text_obama = text_obama + paragraph.text"
   ]
  },
  {
   "cell_type": "code",
   "execution_count": 46,
   "metadata": {},
   "outputs": [],
   "source": [
    "text_file = open(\"../../data/obama.txt\", \"w\")\n",
    "n = text_file.write(text_obama)\n",
    "text_file.close()"
   ]
  }
 ],
 "metadata": {
  "kernelspec": {
   "display_name": "Python 3",
   "language": "python",
   "name": "python3"
  },
  "language_info": {
   "codemirror_mode": {
    "name": "ipython",
    "version": 3
   },
   "file_extension": ".py",
   "mimetype": "text/x-python",
   "name": "python",
   "nbconvert_exporter": "python",
   "pygments_lexer": "ipython3",
   "version": "3.7.3"
  }
 },
 "nbformat": 4,
 "nbformat_minor": 2
}
